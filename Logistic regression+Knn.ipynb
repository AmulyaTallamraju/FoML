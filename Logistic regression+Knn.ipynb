{
  "nbformat": 4,
  "nbformat_minor": 0,
  "metadata": {
    "colab": {
      "name": "AI20BTECH11003_Project_ProgrammingForAI.ipynb",
      "provenance": [],
      "collapsed_sections": []
    },
    "kernelspec": {
      "name": "python3",
      "display_name": "Python 3"
    },
    "language_info": {
      "name": "python"
    }
  },
  "cells": [
    {
      "cell_type": "code",
      "metadata": {
        "id": "0eBmMLSvL1Ta"
      },
      "source": [
        "import pandas as pd\n",
        "import numpy as np\n",
        "import io\n",
        "from google.colab import files\n",
        "from google.colab import drive\n",
        "from matplotlib import pyplot as plt\n",
        "import math\n",
        "from sklearn.model_selection import train_test_split\n",
        "from sklearn.neighbors import KNeighborsClassifier\n",
        "from sklearn.linear_model import LogisticRegression"
      ],
      "execution_count": null,
      "outputs": []
    },
    {
      "cell_type": "code",
      "metadata": {
        "colab": {
          "resources": {
            "http://localhost:8080/nbextensions/google.colab/files.js": {
              "data": "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",
              "ok": true,
              "headers": [
                [
                  "content-type",
                  "application/javascript"
                ]
              ],
              "status": 200,
              "status_text": "OK"
            }
          },
          "base_uri": "https://localhost:8080/",
          "height": 79
        },
        "id": "LglPEkFhR4TC",
        "outputId": "2afaa2d8-31ca-46b7-f6f5-69917086cd3c"
      },
      "source": [
        "#uploading the required files\n",
        "uploaded = files.upload()\n",
        "X_data_frame = pd.read_csv(io.BytesIO(uploaded['heart.csv']))"
      ],
      "execution_count": null,
      "outputs": [
        {
          "output_type": "display_data",
          "data": {
            "text/html": [
              "\n",
              "     <input type=\"file\" id=\"files-97ca28b8-2232-4b65-8290-c614ca49241a\" name=\"files[]\" multiple disabled\n",
              "        style=\"border:none\" />\n",
              "     <output id=\"result-97ca28b8-2232-4b65-8290-c614ca49241a\">\n",
              "      Upload widget is only available when the cell has been executed in the\n",
              "      current browser session. Please rerun this cell to enable.\n",
              "      </output>\n",
              "      <script src=\"/nbextensions/google.colab/files.js\"></script> "
            ],
            "text/plain": [
              "<IPython.core.display.HTML object>"
            ]
          },
          "metadata": {
            "tags": []
          }
        },
        {
          "output_type": "stream",
          "text": [
            "Saving heart.csv to heart (1).csv\n"
          ],
          "name": "stdout"
        }
      ]
    },
    {
      "cell_type": "code",
      "metadata": {
        "id": "S6rpt-QDSx0n",
        "colab": {
          "base_uri": "https://localhost:8080/",
          "height": 206
        },
        "outputId": "2a245a0c-0ecd-41fb-e2e3-3e923170e051"
      },
      "source": [
        "X_data_frame.head() #checking the categories"
      ],
      "execution_count": null,
      "outputs": [
        {
          "output_type": "execute_result",
          "data": {
            "text/html": [
              "<div>\n",
              "<style scoped>\n",
              "    .dataframe tbody tr th:only-of-type {\n",
              "        vertical-align: middle;\n",
              "    }\n",
              "\n",
              "    .dataframe tbody tr th {\n",
              "        vertical-align: top;\n",
              "    }\n",
              "\n",
              "    .dataframe thead th {\n",
              "        text-align: right;\n",
              "    }\n",
              "</style>\n",
              "<table border=\"1\" class=\"dataframe\">\n",
              "  <thead>\n",
              "    <tr style=\"text-align: right;\">\n",
              "      <th></th>\n",
              "      <th>age</th>\n",
              "      <th>sex</th>\n",
              "      <th>cp</th>\n",
              "      <th>trestbps</th>\n",
              "      <th>chol</th>\n",
              "      <th>fbs</th>\n",
              "      <th>restecg</th>\n",
              "      <th>thalach</th>\n",
              "      <th>exang</th>\n",
              "      <th>oldpeak</th>\n",
              "      <th>slope</th>\n",
              "      <th>ca</th>\n",
              "      <th>thal</th>\n",
              "      <th>target</th>\n",
              "    </tr>\n",
              "  </thead>\n",
              "  <tbody>\n",
              "    <tr>\n",
              "      <th>0</th>\n",
              "      <td>63</td>\n",
              "      <td>1</td>\n",
              "      <td>3</td>\n",
              "      <td>145</td>\n",
              "      <td>233</td>\n",
              "      <td>1</td>\n",
              "      <td>0</td>\n",
              "      <td>150</td>\n",
              "      <td>0</td>\n",
              "      <td>2.3</td>\n",
              "      <td>0</td>\n",
              "      <td>0</td>\n",
              "      <td>1</td>\n",
              "      <td>1</td>\n",
              "    </tr>\n",
              "    <tr>\n",
              "      <th>1</th>\n",
              "      <td>37</td>\n",
              "      <td>1</td>\n",
              "      <td>2</td>\n",
              "      <td>130</td>\n",
              "      <td>250</td>\n",
              "      <td>0</td>\n",
              "      <td>1</td>\n",
              "      <td>187</td>\n",
              "      <td>0</td>\n",
              "      <td>3.5</td>\n",
              "      <td>0</td>\n",
              "      <td>0</td>\n",
              "      <td>2</td>\n",
              "      <td>1</td>\n",
              "    </tr>\n",
              "    <tr>\n",
              "      <th>2</th>\n",
              "      <td>41</td>\n",
              "      <td>0</td>\n",
              "      <td>1</td>\n",
              "      <td>130</td>\n",
              "      <td>204</td>\n",
              "      <td>0</td>\n",
              "      <td>0</td>\n",
              "      <td>172</td>\n",
              "      <td>0</td>\n",
              "      <td>1.4</td>\n",
              "      <td>2</td>\n",
              "      <td>0</td>\n",
              "      <td>2</td>\n",
              "      <td>1</td>\n",
              "    </tr>\n",
              "    <tr>\n",
              "      <th>3</th>\n",
              "      <td>56</td>\n",
              "      <td>1</td>\n",
              "      <td>1</td>\n",
              "      <td>120</td>\n",
              "      <td>236</td>\n",
              "      <td>0</td>\n",
              "      <td>1</td>\n",
              "      <td>178</td>\n",
              "      <td>0</td>\n",
              "      <td>0.8</td>\n",
              "      <td>2</td>\n",
              "      <td>0</td>\n",
              "      <td>2</td>\n",
              "      <td>1</td>\n",
              "    </tr>\n",
              "    <tr>\n",
              "      <th>4</th>\n",
              "      <td>57</td>\n",
              "      <td>0</td>\n",
              "      <td>0</td>\n",
              "      <td>120</td>\n",
              "      <td>354</td>\n",
              "      <td>0</td>\n",
              "      <td>1</td>\n",
              "      <td>163</td>\n",
              "      <td>1</td>\n",
              "      <td>0.6</td>\n",
              "      <td>2</td>\n",
              "      <td>0</td>\n",
              "      <td>2</td>\n",
              "      <td>1</td>\n",
              "    </tr>\n",
              "  </tbody>\n",
              "</table>\n",
              "</div>"
            ],
            "text/plain": [
              "   age  sex  cp  trestbps  chol  fbs  ...  exang  oldpeak  slope  ca  thal  target\n",
              "0   63    1   3       145   233    1  ...      0      2.3      0   0     1       1\n",
              "1   37    1   2       130   250    0  ...      0      3.5      0   0     2       1\n",
              "2   41    0   1       130   204    0  ...      0      1.4      2   0     2       1\n",
              "3   56    1   1       120   236    0  ...      0      0.8      2   0     2       1\n",
              "4   57    0   0       120   354    0  ...      1      0.6      2   0     2       1\n",
              "\n",
              "[5 rows x 14 columns]"
            ]
          },
          "metadata": {
            "tags": []
          },
          "execution_count": 3
        }
      ]
    },
    {
      "cell_type": "code",
      "metadata": {
        "id": "UD__ifVQTE-A",
        "colab": {
          "base_uri": "https://localhost:8080/",
          "height": 143
        },
        "outputId": "6852b5bc-a323-405d-d913-df5750687df8"
      },
      "source": [
        "X_data_frame.tail(3)"
      ],
      "execution_count": null,
      "outputs": [
        {
          "output_type": "execute_result",
          "data": {
            "text/html": [
              "<div>\n",
              "<style scoped>\n",
              "    .dataframe tbody tr th:only-of-type {\n",
              "        vertical-align: middle;\n",
              "    }\n",
              "\n",
              "    .dataframe tbody tr th {\n",
              "        vertical-align: top;\n",
              "    }\n",
              "\n",
              "    .dataframe thead th {\n",
              "        text-align: right;\n",
              "    }\n",
              "</style>\n",
              "<table border=\"1\" class=\"dataframe\">\n",
              "  <thead>\n",
              "    <tr style=\"text-align: right;\">\n",
              "      <th></th>\n",
              "      <th>age</th>\n",
              "      <th>sex</th>\n",
              "      <th>cp</th>\n",
              "      <th>trestbps</th>\n",
              "      <th>chol</th>\n",
              "      <th>fbs</th>\n",
              "      <th>restecg</th>\n",
              "      <th>thalach</th>\n",
              "      <th>exang</th>\n",
              "      <th>oldpeak</th>\n",
              "      <th>slope</th>\n",
              "      <th>ca</th>\n",
              "      <th>thal</th>\n",
              "      <th>target</th>\n",
              "    </tr>\n",
              "  </thead>\n",
              "  <tbody>\n",
              "    <tr>\n",
              "      <th>300</th>\n",
              "      <td>68</td>\n",
              "      <td>1</td>\n",
              "      <td>0</td>\n",
              "      <td>144</td>\n",
              "      <td>193</td>\n",
              "      <td>1</td>\n",
              "      <td>1</td>\n",
              "      <td>141</td>\n",
              "      <td>0</td>\n",
              "      <td>3.4</td>\n",
              "      <td>1</td>\n",
              "      <td>2</td>\n",
              "      <td>3</td>\n",
              "      <td>0</td>\n",
              "    </tr>\n",
              "    <tr>\n",
              "      <th>301</th>\n",
              "      <td>57</td>\n",
              "      <td>1</td>\n",
              "      <td>0</td>\n",
              "      <td>130</td>\n",
              "      <td>131</td>\n",
              "      <td>0</td>\n",
              "      <td>1</td>\n",
              "      <td>115</td>\n",
              "      <td>1</td>\n",
              "      <td>1.2</td>\n",
              "      <td>1</td>\n",
              "      <td>1</td>\n",
              "      <td>3</td>\n",
              "      <td>0</td>\n",
              "    </tr>\n",
              "    <tr>\n",
              "      <th>302</th>\n",
              "      <td>57</td>\n",
              "      <td>0</td>\n",
              "      <td>1</td>\n",
              "      <td>130</td>\n",
              "      <td>236</td>\n",
              "      <td>0</td>\n",
              "      <td>0</td>\n",
              "      <td>174</td>\n",
              "      <td>0</td>\n",
              "      <td>0.0</td>\n",
              "      <td>1</td>\n",
              "      <td>1</td>\n",
              "      <td>2</td>\n",
              "      <td>0</td>\n",
              "    </tr>\n",
              "  </tbody>\n",
              "</table>\n",
              "</div>"
            ],
            "text/plain": [
              "     age  sex  cp  trestbps  chol  fbs  ...  exang  oldpeak  slope  ca  thal  target\n",
              "300   68    1   0       144   193    1  ...      0      3.4      1   2     3       0\n",
              "301   57    1   0       130   131    0  ...      1      1.2      1   1     3       0\n",
              "302   57    0   1       130   236    0  ...      0      0.0      1   1     2       0\n",
              "\n",
              "[3 rows x 14 columns]"
            ]
          },
          "metadata": {
            "tags": []
          },
          "execution_count": 4
        }
      ]
    },
    {
      "cell_type": "markdown",
      "metadata": {
        "id": "WM-d1R7MTQxH"
      },
      "source": [
        "There are 303 samples"
      ]
    },
    {
      "cell_type": "markdown",
      "metadata": {
        "id": "BN_-7oKmhPMr"
      },
      "source": [
        "age\n",
        "\n",
        "sex\n",
        "\n",
        "chest pain type (4 values)\n",
        "\n",
        "resting blood pressure\n",
        "\n",
        "serum cholestoral in mg/dl\n",
        "\n",
        "fasting blood sugar > 120 mg/dl\n",
        "\n",
        "resting electrocardiographic results (values 0,1,2)\n",
        "\n",
        "maximum heart rate achieved\n",
        "\n",
        "exercise induced angina\n",
        "\n",
        "oldpeak = ST depression induced by exercise relative to rest\n",
        "\n",
        "the slope of the peak exercise ST segment\n",
        "\n",
        "number of major vessels (0-3) colored by flourosopy\n",
        "\n",
        "thal: 3 = normal; 6 = fixed defect; 7 = reversable defect"
      ]
    },
    {
      "cell_type": "code",
      "metadata": {
        "id": "l8bwBL6xTTO5",
        "colab": {
          "base_uri": "https://localhost:8080/",
          "height": 320
        },
        "outputId": "a6cabeb1-58ad-4f4c-ff94-68f103fac221"
      },
      "source": [
        "X_data_frame.describe()"
      ],
      "execution_count": null,
      "outputs": [
        {
          "output_type": "execute_result",
          "data": {
            "text/html": [
              "<div>\n",
              "<style scoped>\n",
              "    .dataframe tbody tr th:only-of-type {\n",
              "        vertical-align: middle;\n",
              "    }\n",
              "\n",
              "    .dataframe tbody tr th {\n",
              "        vertical-align: top;\n",
              "    }\n",
              "\n",
              "    .dataframe thead th {\n",
              "        text-align: right;\n",
              "    }\n",
              "</style>\n",
              "<table border=\"1\" class=\"dataframe\">\n",
              "  <thead>\n",
              "    <tr style=\"text-align: right;\">\n",
              "      <th></th>\n",
              "      <th>age</th>\n",
              "      <th>sex</th>\n",
              "      <th>cp</th>\n",
              "      <th>trestbps</th>\n",
              "      <th>chol</th>\n",
              "      <th>fbs</th>\n",
              "      <th>restecg</th>\n",
              "      <th>thalach</th>\n",
              "      <th>exang</th>\n",
              "      <th>oldpeak</th>\n",
              "      <th>slope</th>\n",
              "      <th>ca</th>\n",
              "      <th>thal</th>\n",
              "      <th>target</th>\n",
              "    </tr>\n",
              "  </thead>\n",
              "  <tbody>\n",
              "    <tr>\n",
              "      <th>count</th>\n",
              "      <td>303.000000</td>\n",
              "      <td>303.000000</td>\n",
              "      <td>303.000000</td>\n",
              "      <td>303.000000</td>\n",
              "      <td>303.000000</td>\n",
              "      <td>303.000000</td>\n",
              "      <td>303.000000</td>\n",
              "      <td>303.000000</td>\n",
              "      <td>303.000000</td>\n",
              "      <td>303.000000</td>\n",
              "      <td>303.000000</td>\n",
              "      <td>303.000000</td>\n",
              "      <td>303.000000</td>\n",
              "      <td>303.000000</td>\n",
              "    </tr>\n",
              "    <tr>\n",
              "      <th>mean</th>\n",
              "      <td>54.366337</td>\n",
              "      <td>0.683168</td>\n",
              "      <td>0.966997</td>\n",
              "      <td>131.623762</td>\n",
              "      <td>246.264026</td>\n",
              "      <td>0.148515</td>\n",
              "      <td>0.528053</td>\n",
              "      <td>149.646865</td>\n",
              "      <td>0.326733</td>\n",
              "      <td>1.039604</td>\n",
              "      <td>1.399340</td>\n",
              "      <td>0.729373</td>\n",
              "      <td>2.313531</td>\n",
              "      <td>0.544554</td>\n",
              "    </tr>\n",
              "    <tr>\n",
              "      <th>std</th>\n",
              "      <td>9.082101</td>\n",
              "      <td>0.466011</td>\n",
              "      <td>1.032052</td>\n",
              "      <td>17.538143</td>\n",
              "      <td>51.830751</td>\n",
              "      <td>0.356198</td>\n",
              "      <td>0.525860</td>\n",
              "      <td>22.905161</td>\n",
              "      <td>0.469794</td>\n",
              "      <td>1.161075</td>\n",
              "      <td>0.616226</td>\n",
              "      <td>1.022606</td>\n",
              "      <td>0.612277</td>\n",
              "      <td>0.498835</td>\n",
              "    </tr>\n",
              "    <tr>\n",
              "      <th>min</th>\n",
              "      <td>29.000000</td>\n",
              "      <td>0.000000</td>\n",
              "      <td>0.000000</td>\n",
              "      <td>94.000000</td>\n",
              "      <td>126.000000</td>\n",
              "      <td>0.000000</td>\n",
              "      <td>0.000000</td>\n",
              "      <td>71.000000</td>\n",
              "      <td>0.000000</td>\n",
              "      <td>0.000000</td>\n",
              "      <td>0.000000</td>\n",
              "      <td>0.000000</td>\n",
              "      <td>0.000000</td>\n",
              "      <td>0.000000</td>\n",
              "    </tr>\n",
              "    <tr>\n",
              "      <th>25%</th>\n",
              "      <td>47.500000</td>\n",
              "      <td>0.000000</td>\n",
              "      <td>0.000000</td>\n",
              "      <td>120.000000</td>\n",
              "      <td>211.000000</td>\n",
              "      <td>0.000000</td>\n",
              "      <td>0.000000</td>\n",
              "      <td>133.500000</td>\n",
              "      <td>0.000000</td>\n",
              "      <td>0.000000</td>\n",
              "      <td>1.000000</td>\n",
              "      <td>0.000000</td>\n",
              "      <td>2.000000</td>\n",
              "      <td>0.000000</td>\n",
              "    </tr>\n",
              "    <tr>\n",
              "      <th>50%</th>\n",
              "      <td>55.000000</td>\n",
              "      <td>1.000000</td>\n",
              "      <td>1.000000</td>\n",
              "      <td>130.000000</td>\n",
              "      <td>240.000000</td>\n",
              "      <td>0.000000</td>\n",
              "      <td>1.000000</td>\n",
              "      <td>153.000000</td>\n",
              "      <td>0.000000</td>\n",
              "      <td>0.800000</td>\n",
              "      <td>1.000000</td>\n",
              "      <td>0.000000</td>\n",
              "      <td>2.000000</td>\n",
              "      <td>1.000000</td>\n",
              "    </tr>\n",
              "    <tr>\n",
              "      <th>75%</th>\n",
              "      <td>61.000000</td>\n",
              "      <td>1.000000</td>\n",
              "      <td>2.000000</td>\n",
              "      <td>140.000000</td>\n",
              "      <td>274.500000</td>\n",
              "      <td>0.000000</td>\n",
              "      <td>1.000000</td>\n",
              "      <td>166.000000</td>\n",
              "      <td>1.000000</td>\n",
              "      <td>1.600000</td>\n",
              "      <td>2.000000</td>\n",
              "      <td>1.000000</td>\n",
              "      <td>3.000000</td>\n",
              "      <td>1.000000</td>\n",
              "    </tr>\n",
              "    <tr>\n",
              "      <th>max</th>\n",
              "      <td>77.000000</td>\n",
              "      <td>1.000000</td>\n",
              "      <td>3.000000</td>\n",
              "      <td>200.000000</td>\n",
              "      <td>564.000000</td>\n",
              "      <td>1.000000</td>\n",
              "      <td>2.000000</td>\n",
              "      <td>202.000000</td>\n",
              "      <td>1.000000</td>\n",
              "      <td>6.200000</td>\n",
              "      <td>2.000000</td>\n",
              "      <td>4.000000</td>\n",
              "      <td>3.000000</td>\n",
              "      <td>1.000000</td>\n",
              "    </tr>\n",
              "  </tbody>\n",
              "</table>\n",
              "</div>"
            ],
            "text/plain": [
              "              age         sex          cp  ...          ca        thal      target\n",
              "count  303.000000  303.000000  303.000000  ...  303.000000  303.000000  303.000000\n",
              "mean    54.366337    0.683168    0.966997  ...    0.729373    2.313531    0.544554\n",
              "std      9.082101    0.466011    1.032052  ...    1.022606    0.612277    0.498835\n",
              "min     29.000000    0.000000    0.000000  ...    0.000000    0.000000    0.000000\n",
              "25%     47.500000    0.000000    0.000000  ...    0.000000    2.000000    0.000000\n",
              "50%     55.000000    1.000000    1.000000  ...    0.000000    2.000000    1.000000\n",
              "75%     61.000000    1.000000    2.000000  ...    1.000000    3.000000    1.000000\n",
              "max     77.000000    1.000000    3.000000  ...    4.000000    3.000000    1.000000\n",
              "\n",
              "[8 rows x 14 columns]"
            ]
          },
          "metadata": {
            "tags": []
          },
          "execution_count": 5
        }
      ]
    },
    {
      "cell_type": "code",
      "metadata": {
        "colab": {
          "base_uri": "https://localhost:8080/"
        },
        "id": "PHIVQnCumfpQ",
        "outputId": "f6bdee38-1fda-40ba-9352-14f16ad83d2c"
      },
      "source": [
        "#calculating the percentage of people with disease and free from disease\n",
        "Diseasefree = len(X_data_frame[X_data_frame.target == 0])\n",
        "HaveDisease = len(X_data_frame[X_data_frame.target == 1])\n",
        "print(\"Percentage that have Heart Disease: {:.2f}%\",((Diseasefree / (len(X_data_frame.target))*100)))\n",
        "print(\"Percentage of Patients that dont Heart Disease: {:.2f}%\",((HaveDisease / (len(X_data_frame.target))*100)))\n",
        "\n"
      ],
      "execution_count": null,
      "outputs": [
        {
          "output_type": "stream",
          "text": [
            "Percentage that have Heart Disease: {:.2f}% 45.54455445544555\n",
            "Percentage of Patients that dont Heart Disease: {:.2f}% 54.45544554455446\n"
          ],
          "name": "stdout"
        }
      ]
    },
    {
      "cell_type": "code",
      "metadata": {
        "colab": {
          "base_uri": "https://localhost:8080/",
          "height": 226
        },
        "id": "-g6PRz__pM_N",
        "outputId": "9e2075d1-e1e8-4e38-8255-bf99ce0d4f1d"
      },
      "source": [
        "#converting categorical variables to dummy variables\n",
        "cp = pd.get_dummies(X_data_frame['cp'], prefix = \"cp\")\n",
        "th = pd.get_dummies(X_data_frame['thal'], prefix = \"thal\")\n",
        "sl = pd.get_dummies(X_data_frame['slope'], prefix = \"slope\")\n",
        "frames = [X_data_frame, cp, th, sl]\n",
        "X_data_frame = pd.concat(frames, axis = 1)\n",
        "X_data_frame.head()\n"
      ],
      "execution_count": null,
      "outputs": [
        {
          "output_type": "execute_result",
          "data": {
            "text/html": [
              "<div>\n",
              "<style scoped>\n",
              "    .dataframe tbody tr th:only-of-type {\n",
              "        vertical-align: middle;\n",
              "    }\n",
              "\n",
              "    .dataframe tbody tr th {\n",
              "        vertical-align: top;\n",
              "    }\n",
              "\n",
              "    .dataframe thead th {\n",
              "        text-align: right;\n",
              "    }\n",
              "</style>\n",
              "<table border=\"1\" class=\"dataframe\">\n",
              "  <thead>\n",
              "    <tr style=\"text-align: right;\">\n",
              "      <th></th>\n",
              "      <th>age</th>\n",
              "      <th>sex</th>\n",
              "      <th>cp</th>\n",
              "      <th>trestbps</th>\n",
              "      <th>chol</th>\n",
              "      <th>fbs</th>\n",
              "      <th>restecg</th>\n",
              "      <th>thalach</th>\n",
              "      <th>exang</th>\n",
              "      <th>oldpeak</th>\n",
              "      <th>slope</th>\n",
              "      <th>ca</th>\n",
              "      <th>thal</th>\n",
              "      <th>target</th>\n",
              "      <th>cp_0</th>\n",
              "      <th>cp_1</th>\n",
              "      <th>cp_2</th>\n",
              "      <th>cp_3</th>\n",
              "      <th>thal_0</th>\n",
              "      <th>thal_1</th>\n",
              "      <th>thal_2</th>\n",
              "      <th>thal_3</th>\n",
              "      <th>slope_0</th>\n",
              "      <th>slope_1</th>\n",
              "      <th>slope_2</th>\n",
              "    </tr>\n",
              "  </thead>\n",
              "  <tbody>\n",
              "    <tr>\n",
              "      <th>0</th>\n",
              "      <td>63</td>\n",
              "      <td>1</td>\n",
              "      <td>3</td>\n",
              "      <td>145</td>\n",
              "      <td>233</td>\n",
              "      <td>1</td>\n",
              "      <td>0</td>\n",
              "      <td>150</td>\n",
              "      <td>0</td>\n",
              "      <td>2.3</td>\n",
              "      <td>0</td>\n",
              "      <td>0</td>\n",
              "      <td>1</td>\n",
              "      <td>1</td>\n",
              "      <td>0</td>\n",
              "      <td>0</td>\n",
              "      <td>0</td>\n",
              "      <td>1</td>\n",
              "      <td>0</td>\n",
              "      <td>1</td>\n",
              "      <td>0</td>\n",
              "      <td>0</td>\n",
              "      <td>1</td>\n",
              "      <td>0</td>\n",
              "      <td>0</td>\n",
              "    </tr>\n",
              "    <tr>\n",
              "      <th>1</th>\n",
              "      <td>37</td>\n",
              "      <td>1</td>\n",
              "      <td>2</td>\n",
              "      <td>130</td>\n",
              "      <td>250</td>\n",
              "      <td>0</td>\n",
              "      <td>1</td>\n",
              "      <td>187</td>\n",
              "      <td>0</td>\n",
              "      <td>3.5</td>\n",
              "      <td>0</td>\n",
              "      <td>0</td>\n",
              "      <td>2</td>\n",
              "      <td>1</td>\n",
              "      <td>0</td>\n",
              "      <td>0</td>\n",
              "      <td>1</td>\n",
              "      <td>0</td>\n",
              "      <td>0</td>\n",
              "      <td>0</td>\n",
              "      <td>1</td>\n",
              "      <td>0</td>\n",
              "      <td>1</td>\n",
              "      <td>0</td>\n",
              "      <td>0</td>\n",
              "    </tr>\n",
              "    <tr>\n",
              "      <th>2</th>\n",
              "      <td>41</td>\n",
              "      <td>0</td>\n",
              "      <td>1</td>\n",
              "      <td>130</td>\n",
              "      <td>204</td>\n",
              "      <td>0</td>\n",
              "      <td>0</td>\n",
              "      <td>172</td>\n",
              "      <td>0</td>\n",
              "      <td>1.4</td>\n",
              "      <td>2</td>\n",
              "      <td>0</td>\n",
              "      <td>2</td>\n",
              "      <td>1</td>\n",
              "      <td>0</td>\n",
              "      <td>1</td>\n",
              "      <td>0</td>\n",
              "      <td>0</td>\n",
              "      <td>0</td>\n",
              "      <td>0</td>\n",
              "      <td>1</td>\n",
              "      <td>0</td>\n",
              "      <td>0</td>\n",
              "      <td>0</td>\n",
              "      <td>1</td>\n",
              "    </tr>\n",
              "    <tr>\n",
              "      <th>3</th>\n",
              "      <td>56</td>\n",
              "      <td>1</td>\n",
              "      <td>1</td>\n",
              "      <td>120</td>\n",
              "      <td>236</td>\n",
              "      <td>0</td>\n",
              "      <td>1</td>\n",
              "      <td>178</td>\n",
              "      <td>0</td>\n",
              "      <td>0.8</td>\n",
              "      <td>2</td>\n",
              "      <td>0</td>\n",
              "      <td>2</td>\n",
              "      <td>1</td>\n",
              "      <td>0</td>\n",
              "      <td>1</td>\n",
              "      <td>0</td>\n",
              "      <td>0</td>\n",
              "      <td>0</td>\n",
              "      <td>0</td>\n",
              "      <td>1</td>\n",
              "      <td>0</td>\n",
              "      <td>0</td>\n",
              "      <td>0</td>\n",
              "      <td>1</td>\n",
              "    </tr>\n",
              "    <tr>\n",
              "      <th>4</th>\n",
              "      <td>57</td>\n",
              "      <td>0</td>\n",
              "      <td>0</td>\n",
              "      <td>120</td>\n",
              "      <td>354</td>\n",
              "      <td>0</td>\n",
              "      <td>1</td>\n",
              "      <td>163</td>\n",
              "      <td>1</td>\n",
              "      <td>0.6</td>\n",
              "      <td>2</td>\n",
              "      <td>0</td>\n",
              "      <td>2</td>\n",
              "      <td>1</td>\n",
              "      <td>1</td>\n",
              "      <td>0</td>\n",
              "      <td>0</td>\n",
              "      <td>0</td>\n",
              "      <td>0</td>\n",
              "      <td>0</td>\n",
              "      <td>1</td>\n",
              "      <td>0</td>\n",
              "      <td>0</td>\n",
              "      <td>0</td>\n",
              "      <td>1</td>\n",
              "    </tr>\n",
              "  </tbody>\n",
              "</table>\n",
              "</div>"
            ],
            "text/plain": [
              "   age  sex  cp  trestbps  chol  ...  thal_2  thal_3  slope_0  slope_1  slope_2\n",
              "0   63    1   3       145   233  ...       0       0        1        0        0\n",
              "1   37    1   2       130   250  ...       1       0        1        0        0\n",
              "2   41    0   1       130   204  ...       1       0        0        0        1\n",
              "3   56    1   1       120   236  ...       1       0        0        0        1\n",
              "4   57    0   0       120   354  ...       1       0        0        0        1\n",
              "\n",
              "[5 rows x 25 columns]"
            ]
          },
          "metadata": {
            "tags": []
          },
          "execution_count": 7
        }
      ]
    },
    {
      "cell_type": "code",
      "metadata": {
        "colab": {
          "base_uri": "https://localhost:8080/"
        },
        "id": "GebS_z2rp-fd",
        "outputId": "de823b41-dab6-4590-addc-b8a95fd812af"
      },
      "source": [
        "#after converting it into categorical variables, dropping those variables\n",
        "X_data_frame = X_data_frame.drop(columns = ['cp', 'thal', 'slope'])\n",
        "X_data_frame.head()\n",
        "y = X_data_frame.target.values\n",
        "x_data = X_data_frame.drop(['target'], axis = 1)\n",
        "#checking what the data looks like\n",
        "print(x_data)\n"
      ],
      "execution_count": null,
      "outputs": [
        {
          "output_type": "stream",
          "text": [
            "     age  sex  trestbps  chol  fbs  ...  thal_2  thal_3  slope_0  slope_1  slope_2\n",
            "0     63    1       145   233    1  ...       0       0        1        0        0\n",
            "1     37    1       130   250    0  ...       1       0        1        0        0\n",
            "2     41    0       130   204    0  ...       1       0        0        0        1\n",
            "3     56    1       120   236    0  ...       1       0        0        0        1\n",
            "4     57    0       120   354    0  ...       1       0        0        0        1\n",
            "..   ...  ...       ...   ...  ...  ...     ...     ...      ...      ...      ...\n",
            "298   57    0       140   241    0  ...       0       1        0        1        0\n",
            "299   45    1       110   264    0  ...       0       1        0        1        0\n",
            "300   68    1       144   193    1  ...       0       1        0        1        0\n",
            "301   57    1       130   131    0  ...       0       1        0        1        0\n",
            "302   57    0       130   236    0  ...       1       0        0        1        0\n",
            "\n",
            "[303 rows x 21 columns]\n"
          ],
          "name": "stdout"
        }
      ]
    },
    {
      "cell_type": "code",
      "metadata": {
        "id": "GTw8FX6Y0pEJ"
      },
      "source": [
        "#normalising the values of x so that the cluster isnt widely spread out\n",
        "x = (x_data - np.min(x_data)) / (np.max(x_data) - np.min(x_data)).values"
      ],
      "execution_count": null,
      "outputs": []
    },
    {
      "cell_type": "code",
      "metadata": {
        "id": "U6UH2U6b1qag"
      },
      "source": [
        "#splitting the data into testing and training sets\n",
        "x_tr, x_te, y_train, y_test = train_test_split(x,y,test_size = 0.2,random_state=0)\n"
      ],
      "execution_count": null,
      "outputs": []
    },
    {
      "cell_type": "code",
      "metadata": {
        "id": "Zq5esOgBZzDN"
      },
      "source": [
        "# Let us convert data frame to numpy array\n",
        "x_train = (x_tr).to_numpy()\n",
        "x_test = (x_te).to_numpy()\n",
        "\n"
      ],
      "execution_count": null,
      "outputs": []
    },
    {
      "cell_type": "code",
      "metadata": {
        "colab": {
          "base_uri": "https://localhost:8080/"
        },
        "id": "71lSKenKhX8M",
        "outputId": "c6ba60aa-0202-47ac-8fdd-c53d8b895102"
      },
      "source": [
        "N=303\n",
        "M=len(x_train) #training\n",
        "T=len(x_test) # testing\n",
        "p=4\n",
        "K=math.ceil(math.sqrt(N))\n",
        "print(K)\n",
        "print(M,T)\n"
      ],
      "execution_count": null,
      "outputs": [
        {
          "output_type": "stream",
          "text": [
            "18\n",
            "242 61\n"
          ],
          "name": "stdout"
        }
      ]
    },
    {
      "cell_type": "code",
      "metadata": {
        "id": "sDsjFPGXXsuf"
      },
      "source": [
        "def knearestneighbors(t,m,x_tes,x_tra,kk,y_tra):\n",
        "  test_label_pred=[]  \n",
        "  for i in range(0,t):#test points\n",
        "    assign=[]\n",
        "    P=x_tes[i]\n",
        "    for j in range(0,m):#cluster points\n",
        "      Q=x_tra[j]\n",
        "\n",
        "      d=np.linalg.norm(P-Q)#calculating distance between the points\n",
        "      assign.append([d,y_tra[j]])#corresponding label of that point\n",
        "    assigned=sorted(assign, key=lambda x: x[0]) #arraning the points in order of distances from the point i\n",
        "  #print(assigned)\n",
        "    negative=0\n",
        "    positive=0\n",
        "    for k in range(0,kk):\n",
        "\n",
        "      if assigned[k][1]==1:\n",
        "        positive=positive+1\n",
        "      elif assigned[k][1]==0:\n",
        "        negative=negative+1\n",
        "    #checking the majority of labels out of the K nearest neighbors. \n",
        "    if positive>negative:\n",
        "      test_label_pred.append(1)\n",
        "    elif negative>positive:\n",
        "      test_label_pred.append(0)\n",
        "    else: #incase there are equal numbers with either labels, assigning the point the label of the point closest to it \n",
        "      test_label_pred.append(assigned[0][1])\n",
        "  test_pre=np.array(test_label_pred) \n",
        "  return(test_pre)\n"
      ],
      "execution_count": null,
      "outputs": []
    },
    {
      "cell_type": "code",
      "metadata": {
        "colab": {
          "base_uri": "https://localhost:8080/"
        },
        "id": "_TWXivqFhY56",
        "outputId": "6790b1f4-ed14-472a-a9b8-b3e18c17e4bc"
      },
      "source": [
        "\n",
        "assign=[]\n",
        "acc_k=[]\n",
        "while K>=1:\n",
        "  #values of K ranging from 1-18\n",
        "  test_pred=knearestneighbors(T,M,x_test,x_train,K,y_train)\n",
        "  acc=0\n",
        "  wro=0\n",
        "   \n",
        "  for l in range(0,len(y_test)):\n",
        "    if y_test[l]==test_pred[l]:\n",
        "      acc=acc+1\n",
        "    elif y_test[l]!=test_pred[l]:\n",
        "      wro=wro+1\n",
        "  acc_k.append([acc/(acc+wro),K])#checking for the accuracy\n",
        "  K=K-1\n",
        "print(acc_k)\n",
        "\n"
      ],
      "execution_count": null,
      "outputs": [
        {
          "output_type": "stream",
          "text": [
            "[[0.8524590163934426, 18], [0.8360655737704918, 17], [0.8360655737704918, 16], [0.8360655737704918, 15], [0.8360655737704918, 14], [0.8360655737704918, 13], [0.8524590163934426, 12], [0.8688524590163934, 11], [0.8852459016393442, 10], [0.8688524590163934, 9], [0.8852459016393442, 8], [0.8852459016393442, 7], [0.8688524590163934, 6], [0.8524590163934426, 5], [0.8360655737704918, 4], [0.8852459016393442, 3], [0.8032786885245902, 2], [0.8032786885245902, 1]]\n"
          ],
          "name": "stdout"
        }
      ]
    },
    {
      "cell_type": "code",
      "metadata": {
        "id": "amCv5giqe0l9"
      },
      "source": [
        "acc_sorted=sorted(acc_k, key=lambda x: x[1])#sorting data according to K values\n",
        "x_acc=[]\n",
        "y_acc=[]\n",
        "for [a,b] in acc_sorted:\n",
        "  x_acc.append(b)\n",
        "  y_acc.append(a)\n",
        "#print(x_acc)\n",
        "#print(y_acc)"
      ],
      "execution_count": null,
      "outputs": []
    },
    {
      "cell_type": "code",
      "metadata": {
        "id": "V_-swttzXrvE"
      },
      "source": [
        "#doing the above with pre- existing libraries in python"
      ],
      "execution_count": null,
      "outputs": []
    },
    {
      "cell_type": "code",
      "metadata": {
        "id": "89-Pdiw4otLw"
      },
      "source": [
        "K=math.ceil(math.sqrt(N))\n",
        "k=1\n",
        "y_sklearn=[]\n",
        "k_=[]\n",
        "while k<=K:\n",
        "  \n",
        "  knn = KNeighborsClassifier(n_neighbors = k)  #  k nearest neighbors\n",
        "  knn.fit(x_tr, y_train)#training set\n",
        "  prediction = knn.predict(x_te)#predicting using the giving test set\n",
        "  y_sklearn.append(knn.score(x_te, y_test))\n",
        "  k_.append(k)\n",
        "  k=k+1"
      ],
      "execution_count": null,
      "outputs": []
    },
    {
      "cell_type": "code",
      "metadata": {
        "colab": {
          "base_uri": "https://localhost:8080/",
          "height": 279
        },
        "id": "ypm-DbpKrMzh",
        "outputId": "5f66f735-01a7-4e98-a478-11dba1a9a4c5"
      },
      "source": [
        "plt.plot(k_, y_sklearn ,marker='o')\n",
        "plt.plot(x_acc, y_acc  ,marker='o')\n",
        "plt.xticks(np.arange(1,19,1))\n",
        "plt.grid()\n",
        "plt.xlabel('K')\n",
        "plt.ylabel('accuracy')\n",
        "plt.legend(['accuracy sklearn for different values of K','accuracy of my model'],loc=\"lower right\")\n",
        "\n",
        "plt.show()"
      ],
      "execution_count": null,
      "outputs": [
        {
          "output_type": "display_data",
          "data": {
            "image/png": "[encoded data removed]",
            "text/plain": [
              "<Figure size 432x288 with 1 Axes>"
            ]
          },
          "metadata": {
            "tags": [],
            "needs_background": "light"
          }
        }
      ]
    },
    {
      "cell_type": "markdown",
      "metadata": {
        "id": "yqMZpAQVwUVr"
      },
      "source": [
        "It can be observed that my model and the sklearn model differ only at the even values which can be attributed to the way I resolved the ties. K= even are prone to ties and in such cases I assigned the label that was closest to the point"
      ]
    },
    {
      "cell_type": "markdown",
      "metadata": {
        "id": "_AS1XWVZHtKO"
      },
      "source": [
        "It can be oberved that the optimal values of K are 3,7,8"
      ]
    },
    {
      "cell_type": "code",
      "metadata": {
        "colab": {
          "base_uri": "https://localhost:8080/"
        },
        "id": "eNOyE_p2u28C",
        "outputId": "ceed9939-ceb6-4971-ba38-87dd8fa299a8"
      },
      "source": [
        "K=7\n",
        "#confusion matrix for K=7 which has the highest accuracy\n",
        "test_pred_=knearestneighbors(T,M,x_test,x_train,K,y_train)  \n",
        "TP=0\n",
        "TN=0\n",
        "FP=0\n",
        "FN=0\n",
        "for i in range(0,T):\n",
        "  if test_pred_[i]==y_test[i]==1:\n",
        "    TP=TP+1\n",
        "  elif test_pred_[i]==y_test[i]==0:\n",
        "    TN=TN+1\n",
        "  elif test_pred_[i]==0 and y_test[i]==1:\n",
        "    FN=FN+1\n",
        "  elif test_pred_[i]==1 and y_test[i]==0:\n",
        "    FP=FP+1\n",
        "print('Accuracy is ',(TN+TP)/(TN+TP+FN+FP))\n",
        "print('Precision is ',TP/(TP+FP))\n",
        "print('Sensitivity is ',TP/(TP+FN))\n",
        "print('Specificity is ',TN/(TN+FP))\n"
      ],
      "execution_count": null,
      "outputs": [
        {
          "output_type": "stream",
          "text": [
            "Accuracy is  0.8852459016393442\n",
            "Precision is  0.9090909090909091\n",
            "Sensitivity is  0.8823529411764706\n",
            "Specificity is  0.8888888888888888\n"
          ],
          "name": "stdout"
        }
      ]
    },
    {
      "cell_type": "code",
      "metadata": {
        "colab": {
          "base_uri": "https://localhost:8080/"
        },
        "id": "4OZXqoukTEb5",
        "outputId": "508781a8-7eb1-4e35-c472-1e767f0ed6d6"
      },
      "source": [
        "#randomly initialising weights and bias\n",
        "weights=np.random.rand(21)\n",
        "bias=np.random.rand(1)\n",
        "#print(x_train[1])\n",
        "def sigmoid(x):\n",
        "  y=1/(1+np.exp(-x))\n",
        "  return y\n",
        "  #computing (beta transpose X+bias)\n",
        "def tra(x,wei,bia):\n",
        "  g=np.dot(x,wei.T)+bia\n",
        "  return g\n",
        "alpha=1.2#learning rate\n",
        "cost_train=[]\n",
        "cost_test=[]\n",
        "#print(tra(x_train[1],weights,bias))\n",
        "#number of iterations-100 to update the weights by gradient descent\n",
        "for k in range(0,100):\n",
        "  for j in range(0,len(weights)):\n",
        "    beta_up=0\n",
        "    for i in range(0,len(y_train)):\n",
        "      h=sigmoid(tra(x_train[i],weights,bias)[0])\n",
        "      \n",
        "      #print(h)\n",
        "      #print(y_train[i])\n",
        "      beta_up=beta_up-alpha*((h)-y_train[i])*(x_train[i][j])\n",
        "    weights[j]=weights[j]+beta_up/len(y_train)\n",
        "  #for the bias\n",
        "  bias_up=0\n",
        "  for i in range(0,len(y_train)):\n",
        "    h=sigmoid(tra(x_train[i],weights,bias)[0])\n",
        "    bias_up=bias_up-alpha*((h)-y_train[i])\n",
        "  bias=bias+bias_up/len(y_train)\n",
        "\n",
        "  #computing training cost\n",
        "  coss=0\n",
        "  for i in range(0,len(y_train)):\n",
        "    h=sigmoid(tra(x_train[i],weights,bias)[0])\n",
        "    #print(h)\n",
        "    #print(y_train[i])\n",
        "    coss=coss-(y_train[i]*np.log(h)+(1-y_train[i])*np.log(1-h))\n",
        "    #computing test cost\n",
        "  cosv=0\n",
        "  for i in range(0,len(y_test)):\n",
        "    h=sigmoid(tra(x_test[i],weights,bias)[0])\n",
        "    cosv=cosv-(y_test[i]*np.log(h)+(1-y_test[i])*np.log(1-h))\n",
        "    \n",
        "\n",
        "  cost_train.append(coss/len(y_train))\n",
        "  cost_test.append(cosv/len(y_test))\n",
        "\n",
        "print(cost_train) \n",
        "print(cost_test) \n"
      ],
      "execution_count": null,
      "outputs": [
        {
          "output_type": "stream",
          "text": [
            "[0.696515265740988, 0.5378349683277924, 0.49745337937886736, 0.477338130699642, 0.46348386392532215, 0.4529594216025859, 0.44462853884730374, 0.4378549645904349, 0.43222843522927973, 0.4274683590471383, 0.42337625018956654, 0.41980822128923806, 0.41665786009482286, 0.41384510710061295, 0.41130881093495225, 0.40900162502257414, 0.4068864378717842, 0.4049338316965945, 0.40312024453015416, 0.4014266221846206, 0.3998374167415241, 0.3983398337308145, 0.39692326013553425, 0.39557882546821743, 0.3942990618677223, 0.3930776386376555, 0.3919091532831869, 0.3907889658088445, 0.38971306641549547, 0.388677969182005, 0.38768062610916815, 0.38671835722811043, 0.3857887934630339, 0.38488982968079893, 0.38401958592247437, 0.383176375241498, 0.38235867690318903, 0.3815651139557587, 0.3807944343818128, 0.3800454951950441, 0.3793172489694416, 0.37860873238543946, 0.3779190564546775, 0.3772473981468152, 0.37659299319146367, 0.3759551298683188, 0.37533314363100156, 0.37472641243649063, 0.374134352673541, 0.3735564156011337, 0.3729920842224874, 0.37244087053211644, 0.37190231308332455, 0.37137597483171, 0.370861441217109, 0.37035831845208284, 0.36986623198983215, 0.36938482514842474, 0.36891375787156616, 0.368452705608997, 0.3680013583019784, 0.3675594194613556, 0.3671266053274173, 0.3667026441022087, 0.366287275246223, 0.36588024883244114, 0.3654813249516102, 0.36509027316340914, 0.3647068719888531, 0.3643309084398207, 0.36396217758211846, 0.3636004821289047, 0.3632456320616718, 0.3628974442763096, 0.3625557422520438, 0.36222035574129163, 0.36189112047868804, 0.36156787790771894, 0.36125047492356027, 0.36093876363086547, 0.3606326011153655, 0.3603318492282601, 0.36003637438247305, 0.35974604735992854, 0.3594607431290923, 0.3591803406720698, 0.3589047228206369, 0.3586337761006171, 0.3583673905840678, 0.3581054597487948, 0.35784788034473347, 0.35759455226679254, 0.3573453784337647, 0.3571002646729571, 0.3568591196102045, 0.3566218545649722, 0.3563883834502451, 0.3561586226769563, 0.3559324910626965, 0.35570990974448174]\n",
            "[0.6162167169109263, 0.48733934697795545, 0.4551567177566143, 0.4361737743668838, 0.42144983240439843, 0.4096266729999009, 0.40005791570308014, 0.3922497175970562, 0.3858193027782161, 0.3804758167915841, 0.37599932275891734, 0.3722225783617309, 0.36901707195358163, 0.366282835280566, 0.3639411250311916, 0.361929164853108, 0.3601963399603738, 0.3587014137383384, 0.35741046760883666, 0.3562953576548622, 0.3553325446093286, 0.3545021967739529, 0.35378749478321986, 0.35317408733317474, 0.35264966104163475, 0.35220359747746627, 0.35182669741001915, 0.3515109573674497, 0.35124938724968385, 0.3510358604236376, 0.35086498971427854, 0.35073202418933724, 0.3506327627545163, 0.3505634814267443, 0.35052087180486513, 0.3505019887603305, 0.35050420576168445, 0.35052517655280185, 0.3505628021460501, 0.3506152022826912, 0.350680690665219, 0.3507577533884763, 0.35084503009481804, 0.3509412974583181, 0.3510454546679063, 0.3511565106323717, 0.3512735726737649, 0.35139583651167783, 0.35152257737066755, 0.3516531420678625, 0.3517869419584764, 0.3519234466342875, 0.3520621782847296, 0.352202706642542, 0.35234464444636315, 0.35248764336150407, 0.3526313903076957, 0.35277560414907366, 0.3529200327071869, 0.3530644500626127, 0.3532086541148503, 0.35335246437374623, 0.35349571995878193, 0.3536382777852505, 0.3537800109186894, 0.35392080708098717, 0.3540605672933827, 0.35419920464315063, 0.35433664316215924, 0.3544728168067139, 0.35460766852918213, 0.35474114943286467, 0.3548732180024225, 0.3550038394029336, 0.3551329848413343, 0.35526063098459365, 0.3553867594295229, 0.3555113562195959, 0.35563441140459645, 0.355755918639293, 0.3558758748177024, 0.3559942797398059, 0.35611113580787873, 0.3562264477498429, 0.35634022236729196, 0.35645246830604094, 0.3565631958472484, 0.35667241671733085, 0.356780143915046, 0.3568863915542585, 0.3569911747210402, 0.35709450934386805, 0.35719641207579034, 0.35729690018753, 0.35739599147058604, 0.3574937041494662, 0.3575900568022689, 0.35768506828888796, 0.3577787576861877, 0.35787114422953753]\n"
          ],
          "name": "stdout"
        }
      ]
    },
    {
      "cell_type": "code",
      "metadata": {
        "colab": {
          "base_uri": "https://localhost:8080/",
          "height": 279
        },
        "id": "GY6yNBawh1X1",
        "outputId": "16498963-83a5-4580-e07a-dcc5d060b823"
      },
      "source": [
        "#plots\n",
        "ep=[]\n",
        "for i in range(0,100):\n",
        "  ep.append(i)\n",
        "plt.plot(ep, cost_train )\n",
        "plt.plot(ep, cost_test  )\n",
        "plt.grid()\n",
        "plt.xlabel('iteration number')\n",
        "plt.ylabel('cost')\n",
        "plt.legend(['training cost','testing cost'],loc=\"upper right\")\n",
        "\n",
        "plt.show()"
      ],
      "execution_count": null,
      "outputs": [
        {
          "output_type": "display_data",
          "data": {
            "image/png": "[encoded data removed]",
            "text/plain": [
              "<Figure size 432x288 with 1 Axes>"
            ]
          },
          "metadata": {
            "tags": [],
            "needs_background": "light"
          }
        }
      ]
    },
    {
      "cell_type": "markdown",
      "metadata": {
        "id": "bgxvX2L7oPzj"
      },
      "source": [
        "the training cost,testing cost converge at 100 iterations"
      ]
    },
    {
      "cell_type": "code",
      "metadata": {
        "colab": {
          "base_uri": "https://localhost:8080/"
        },
        "id": "d181otC7itVg",
        "outputId": "b021f575-63f1-4a69-e051-b8144ce6e061"
      },
      "source": [
        "#predicted labels\n",
        "\n",
        "y_prediction=[]   \n",
        "for i in range(0,len(y_test)):\n",
        "  h=sigmoid(tra(x_test[i],weights,bias)[0])\n",
        "  if h <= 0.5:\n",
        "    y_prediction.append(0)\n",
        "  else:\n",
        "    y_prediction.append(1)\n",
        "\n",
        "acc=0\n",
        "wro=0\n",
        "for i in range(0,len(y_test)):\n",
        "  if y_test[i]==y_prediction[i]:\n",
        "    acc=acc+1\n",
        "  else:\n",
        "    wro=wro+1\n",
        "print(acc/(acc+wro))#accuracy percentage of my model\n"
      ],
      "execution_count": null,
      "outputs": [
        {
          "output_type": "stream",
          "text": [
            "0.8688524590163934\n"
          ],
          "name": "stdout"
        }
      ]
    },
    {
      "cell_type": "code",
      "metadata": {
        "colab": {
          "base_uri": "https://localhost:8080/"
        },
        "id": "meEQvo_klN4j",
        "outputId": "440fa935-910d-4518-f9a5-a0058e31940e"
      },
      "source": [
        "#pre exisitng model\n",
        "accuracies = {}\n",
        "\n",
        "lr = LogisticRegression()\n",
        "lr.fit(x_train,y_train)\n",
        "acc = lr.score(x_test,y_test)*100\n",
        "\n",
        "accuracies['Logistic Regression'] = acc\n",
        "print(\"Test Accuracy {}%\".format(acc))\n"
      ],
      "execution_count": null,
      "outputs": [
        {
          "output_type": "stream",
          "text": [
            "Test Accuracy 86.88524590163934%\n"
          ],
          "name": "stdout"
        }
      ]
    },
    {
      "cell_type": "code",
      "metadata": {
        "colab": {
          "base_uri": "https://localhost:8080/"
        },
        "id": "3uR0dtf2ox4X",
        "outputId": "e74ba909-9d49-49eb-b29a-d4257a41f1bd"
      },
      "source": [
        "#confusion matrix for my model of logistic regression\n",
        "TP=0\n",
        "TN=0\n",
        "FP=0\n",
        "FN=0\n",
        "for i in range(0,len(y_test)):\n",
        "  if y_prediction[i]==y_test[i]==1:\n",
        "    TP=TP+1\n",
        "  elif y_prediction[i]==y_test[i]==0:\n",
        "    TN=TN+1\n",
        "  elif y_prediction[i]==0 and y_test[i]==1:\n",
        "    FN=FN+1\n",
        "  elif y_prediction[i]==1 and y_test[i]==0:\n",
        "    FP=FP+1\n",
        "print('Accuracy is ',(TN+TP)/(TN+TP+FN+FP))\n",
        "print('Precision is ',TP/(TP+FP))\n",
        "print('Recall is ',TP/(TP+FN))\n",
        "print('Specificity is ',TN/(TN+FP))"
      ],
      "execution_count": null,
      "outputs": [
        {
          "output_type": "stream",
          "text": [
            "Accuracy is  0.8688524590163934\n",
            "Precision is  0.8823529411764706\n",
            "Sensitivity is  0.8823529411764706\n",
            "Specificity is  0.8518518518518519\n"
          ],
          "name": "stdout"
        }
      ]
    }
  ]
}